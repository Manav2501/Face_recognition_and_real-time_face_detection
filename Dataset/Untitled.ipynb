{
 "cells": [
  {
   "cell_type": "code",
   "execution_count": 24,
   "metadata": {},
   "outputs": [
    {
     "name": "stdout",
     "output_type": "stream",
     "text": [
      "Collecting train_test_split\n",
      "Note: you may need to restart the kernel to use updated packages.\n"
     ]
    },
    {
     "name": "stderr",
     "output_type": "stream",
     "text": [
      "  Could not find a version that satisfies the requirement train_test_split (from versions: )\n",
      "No matching distribution found for train_test_split\n"
     ]
    }
   ],
   "source": [
    "pip install "
   ]
  },
  {
   "cell_type": "code",
   "execution_count": 20,
   "metadata": {},
   "outputs": [
    {
     "name": "stdout",
     "output_type": "stream",
     "text": [
      "1641002_Male_Anger_RGB.png\n",
      "1641002_Male_Angry_Sketch.png\n",
      "1641002_Male_Disgust_RGB.png\n",
      "1641002_Male_Disgust_Sketch.png\n",
      "1641002_Male_Fear_RGB.png\n",
      "1641002_Male_Fear_Sketch.png\n",
      "1641002_Male_Happy_RGB.png\n",
      "1641002_Male_Happy_Sketch.png\n",
      "1641002_Male_Neutral_RGB.png\n",
      "1641002_Male_Neutral_Sketch.png\n",
      "1641002_Male_Sad_RGB.png\n",
      "1641002_Male_Sad_Sketch.png\n",
      "1641002_Male_Surprise_RGB.png\n",
      "1641002_Male_Surprise_Sketch.png\n"
     ]
    }
   ],
   "source": [
    "import os\n",
    "\n",
    "def isSubstring(s1, s2): \n",
    "    M = len(s1) \n",
    "    N = len(s2) \n",
    "  \n",
    "    # A loop to slide pat[] one by one  \n",
    "    for i in range(N - M + 1): \n",
    "  \n",
    "        # For current index i, \n",
    "        # check for pattern match  \n",
    "        for j in range(M): \n",
    "            if (s2[i + j] != s1[j]): \n",
    "                break\n",
    "              \n",
    "        if j + 1 == M : \n",
    "            return i \n",
    "  \n",
    "    return -1\n",
    "\n",
    "\n",
    "folder = \"C:/Users/Dell/Desktop/ML_project/Dataset/\"\n",
    "tmp = \".png\"\n",
    "for filename in os.listdir(folder):\n",
    "    if isSubstring(tmp,filename)!=-1:\n",
    "        print(filename)\n",
    "\n",
    "#img = cv2.imread(os.path.join(folder,))"
   ]
  },
  {
   "cell_type": "code",
   "execution_count": null,
   "metadata": {},
   "outputs": [],
   "source": []
  }
 ],
 "metadata": {
  "kernelspec": {
   "display_name": "Python 3",
   "language": "python",
   "name": "python3"
  },
  "language_info": {
   "codemirror_mode": {
    "name": "ipython",
    "version": 3
   },
   "file_extension": ".py",
   "mimetype": "text/x-python",
   "name": "python",
   "nbconvert_exporter": "python",
   "pygments_lexer": "ipython3",
   "version": "3.7.3"
  }
 },
 "nbformat": 4,
 "nbformat_minor": 2
}
