{
 "cells": [
  {
   "cell_type": "code",
   "execution_count": 3,
   "metadata": {},
   "outputs": [],
   "source": [
    "import cv2\n",
    "import numpy as np\n",
    "import os\n",
    "import re\n",
    "from sklearn.cluster import KMeans\n",
    "import matplotlib.pyplot as plt\n",
    "%matplotlib inline "
   ]
  },
  {
   "cell_type": "code",
   "execution_count": 9,
   "metadata": {},
   "outputs": [
    {
     "ename": "AttributeError",
     "evalue": "module 'cv2.cv2' has no attribute 'SIFT_create'",
     "output_type": "error",
     "traceback": [
      "\u001b[1;31m---------------------------------------------------------------------------\u001b[0m",
      "\u001b[1;31mAttributeError\u001b[0m                            Traceback (most recent call last)",
      "\u001b[1;32m<ipython-input-9-61801dc0eede>\u001b[0m in \u001b[0;36m<module>\u001b[1;34m\u001b[0m\n\u001b[0;32m     29\u001b[0m         \u001b[0mimg\u001b[0m \u001b[1;33m=\u001b[0m \u001b[0mcv2\u001b[0m\u001b[1;33m.\u001b[0m\u001b[0mcvtColor\u001b[0m\u001b[1;33m(\u001b[0m\u001b[0mimg\u001b[0m\u001b[1;33m,\u001b[0m \u001b[0mcv2\u001b[0m\u001b[1;33m.\u001b[0m\u001b[0mCOLOR_RGB2GRAY\u001b[0m\u001b[1;33m)\u001b[0m\u001b[1;33m\u001b[0m\u001b[1;33m\u001b[0m\u001b[0m\n\u001b[0;32m     30\u001b[0m         \u001b[0mimg\u001b[0m \u001b[1;33m=\u001b[0m \u001b[0mcv2\u001b[0m\u001b[1;33m.\u001b[0m\u001b[0mresize\u001b[0m\u001b[1;33m(\u001b[0m\u001b[0mimg\u001b[0m\u001b[1;33m,\u001b[0m \u001b[1;33m(\u001b[0m\u001b[1;36m200\u001b[0m\u001b[1;33m,\u001b[0m\u001b[1;36m200\u001b[0m\u001b[1;33m)\u001b[0m\u001b[1;33m)\u001b[0m\u001b[1;33m\u001b[0m\u001b[1;33m\u001b[0m\u001b[0m\n\u001b[1;32m---> 31\u001b[1;33m         \u001b[0msift\u001b[0m \u001b[1;33m=\u001b[0m \u001b[0mcv2\u001b[0m\u001b[1;33m.\u001b[0m\u001b[0mSIFT_create\u001b[0m\u001b[1;33m(\u001b[0m\u001b[1;33m)\u001b[0m\u001b[1;33m\u001b[0m\u001b[1;33m\u001b[0m\u001b[0m\n\u001b[0m\u001b[0;32m     32\u001b[0m         \u001b[0mkp\u001b[0m\u001b[1;33m,\u001b[0m \u001b[0mdes\u001b[0m \u001b[1;33m=\u001b[0m \u001b[0msift\u001b[0m\u001b[1;33m.\u001b[0m\u001b[0mdetectAndCompute\u001b[0m\u001b[1;33m(\u001b[0m\u001b[0mimg\u001b[0m\u001b[1;33m,\u001b[0m\u001b[1;32mNone\u001b[0m\u001b[1;33m)\u001b[0m\u001b[1;33m\u001b[0m\u001b[1;33m\u001b[0m\u001b[0m\n\u001b[0;32m     33\u001b[0m         \u001b[0mkmeans\u001b[0m \u001b[1;33m=\u001b[0m \u001b[0mKMeans\u001b[0m\u001b[1;33m(\u001b[0m\u001b[0mn_clusters\u001b[0m\u001b[1;33m=\u001b[0m\u001b[1;36m1\u001b[0m\u001b[1;33m,\u001b[0m \u001b[0mrandom_state\u001b[0m\u001b[1;33m=\u001b[0m\u001b[1;36m0\u001b[0m\u001b[1;33m)\u001b[0m\u001b[1;33m.\u001b[0m\u001b[0mfit\u001b[0m\u001b[1;33m(\u001b[0m\u001b[0mdes\u001b[0m\u001b[1;33m)\u001b[0m\u001b[1;33m\u001b[0m\u001b[1;33m\u001b[0m\u001b[0m\n",
      "\u001b[1;31mAttributeError\u001b[0m: module 'cv2.cv2' has no attribute 'SIFT_create'"
     ]
    }
   ],
   "source": [
    "def isSubstring(s1, s2): \n",
    "    M = len(s1) \n",
    "    N = len(s2) \n",
    "  \n",
    "    # A loop to slide pat[] one by one  \n",
    "    for i in range(N - M + 1): \n",
    "  \n",
    "        # For current index i, \n",
    "        # check for pattern match  \n",
    "        for j in range(M): \n",
    "            if (s2[i + j] != s1[j]): \n",
    "                break\n",
    "              \n",
    "        if j + 1 == M : \n",
    "            return i \n",
    "  \n",
    "    return -1\n",
    "\n",
    "dataSet = []\n",
    "person = []\n",
    "horiSet = []\n",
    "train_set_x = []\n",
    "count = 0\n",
    "folder = \"C:/Users/Dell/Desktop/ML_project/Dataset/train_RGB/\"\n",
    "for filename in os.listdir(folder):\n",
    "    if isSubstring(\".png\",filename)!=-1:\n",
    "        img = cv2.imread(os.path.join(folder,filename))\n",
    "#         print(img)\n",
    "        img = cv2.cvtColor(img, cv2.COLOR_RGB2GRAY)\n",
    "        img = cv2.resize(img, (200,200))\n",
    "        sift = cv2.SIFT()\n",
    "        kp, des = sift.detectAndCompute(img,None)\n",
    "        kmeans = KMeans(n_clusters=1, random_state=0).fit(des)\n",
    "#         print(kmeans.cluster_centers_.shape)\n",
    "        train_set_x.append(kmeans.cluster_centers_)\n",
    "#         person.append(numbers[0])\n",
    "        img = np.ravel(img)\n",
    "        if img is not None:\n",
    "#             for desc in des: \n",
    "            numbers = re.findall('\\d+',filename)\n",
    "            numbers = list(map(int,numbers))\n",
    "            person.append(numbers[0])\n",
    "            horiSet.append(img.T)\n",
    "#             dataSet.append(desc)\n",
    "            count = count + 1\n",
    "\n",
    "print(np.array(train_set_x).shape)      \n",
    "dataSet_test = []\n",
    "person_test = []\n",
    "horiSet_test = []\n",
    "test_set_x = []\n",
    "folder = \"C:/Users/Dell/Desktop/ML_project/Dataset/test_RGB/\"\n",
    "for filename in os.listdir(folder):\n",
    "    if isSubstring(\".png\",filename)!=-1:\n",
    "        img = cv2.imread(os.path.join(folder,filename))\n",
    "        img = cv2.cvtColor(img, cv2.COLOR_RGB2GRAY)\n",
    "        img = cv2.resize(img, (200, 200))\n",
    "        sift = cv2.xfeatures2d.SIFT_create()\n",
    "        kp, des = sift.detectAndCompute(img,None)\n",
    "        #kp will be a list of keypoints and des is a numpy array of shape Number_of_Keypoints×128.\n",
    "        kmeans = KMeans(n_clusters=1, random_state=0).fit(des)\n",
    "        test_set_x.append(kmeans.cluster_centers_)\n",
    "        img = np.ravel(img)\n",
    "        if img is not None:\n",
    "#             for desc in des: \n",
    "            numbers = re.findall('\\d+',filename)\n",
    "            numbers = list(map(int,numbers))\n",
    "            person_test.append(numbers[0])\n",
    "            horiSet_test.append(img.T)\n",
    "#             dataSet_test.append(desc)\n",
    "            count = count + 1\n",
    "print(np.array(test_set_x).shape , np.array(person_test).shape)"
   ]
  },
  {
   "cell_type": "code",
   "execution_count": 10,
   "metadata": {},
   "outputs": [],
   "source": [
    "train_set_x = np.reshape(train_set_x,(418,128))\n",
    "test_set_x = np.reshape(test_set_x,(140,128))"
   ]
  },
  {
   "cell_type": "code",
   "execution_count": 11,
   "metadata": {},
   "outputs": [
    {
     "name": "stdout",
     "output_type": "stream",
     "text": [
      "0     28\n",
      "1     31\n",
      "2      4\n",
      "3     13\n",
      "4     33\n",
      "5     34\n",
      "6     28\n",
      "7     24\n",
      "8     18\n",
      "9     32\n",
      "10     2\n",
      "11     6\n",
      "12    30\n",
      "13    19\n",
      "14     4\n",
      "15    21\n",
      "16    29\n",
      "17    14\n",
      "18    15\n",
      "19    20\n",
      "20    14\n",
      "21    10\n",
      "22    15\n",
      "23    30\n",
      "24     7\n",
      "25    18\n",
      "26    23\n",
      "27    17\n",
      "28    24\n",
      "29    12\n",
      "      ..\n",
      "40     2\n",
      "41    21\n",
      "42     3\n",
      "43     6\n",
      "44     9\n",
      "45    11\n",
      "46    11\n",
      "47    26\n",
      "48     7\n",
      "49    27\n",
      "50    27\n",
      "51     0\n",
      "52    33\n",
      "53    34\n",
      "54    22\n",
      "55    16\n",
      "56     8\n",
      "57    32\n",
      "58    25\n",
      "59    22\n",
      "60    26\n",
      "61    13\n",
      "62     9\n",
      "63     0\n",
      "64     5\n",
      "65    16\n",
      "66    17\n",
      "67     5\n",
      "68    29\n",
      "69     8\n",
      "Name: id, Length: 70, dtype: int64\n"
     ]
    }
   ],
   "source": [
    "import pandas as pd\n",
    "\n",
    "#Getting data in desired format and mapping the lables\n",
    "dataSet = np.array(train_set_x)\n",
    "train = pd.DataFrame(dataSet)\n",
    "\n",
    "person = np.array(person)\n",
    "train['id'] = person.transpose()\n",
    "\n",
    "unique_person = train['id']\n",
    "unique_person = np.array(unique_person)\n",
    "unique_person = np.unique(unique_person)\n",
    "key = range(len(unique_person))\n",
    "\n",
    "roll_dict = dict( zip(unique_person, key))\n",
    "\n",
    "mapped_roll = np.vectorize(roll_dict.get)(person)\n",
    "train['id'] = mapped_roll.transpose()\n",
    "\n",
    "y = train['id'].values.astype('int64')\n",
    "images = train.drop(['id'], axis=1, inplace=False)\n",
    "x = (images.values).astype('uint8')\n",
    "\n",
    "X_train = x\n",
    "Y_train = y\n",
    "\n",
    "dataSet_test = np.array(test_set_x)\n",
    "test = pd.DataFrame(dataSet_test)\n",
    "\n",
    "person_test = np.array(person_test)\n",
    "test['id'] = person_test.transpose()\n",
    "\n",
    "mapped_roll_test = np.vectorize(roll_dict.get)(person_test)\n",
    "test['id'] = mapped_roll_test.transpose()\n",
    "print(test['id'])\n",
    "\n",
    "# temp = np_utils.to_categorical(test['id'])\n",
    "# print(temp[2])\n",
    "# print(temp.shape)\n",
    "\n",
    "\n",
    "y_test = test['id'].values.astype('int64')\n",
    "images = test.drop(['id'], axis=1, inplace=False)\n",
    "x_test = (images.values).astype('uint8')\n",
    "\n",
    "X_test = x_test\n",
    "Y_test = y_test\n",
    "\n"
   ]
  },
  {
   "cell_type": "code",
   "execution_count": 12,
   "metadata": {},
   "outputs": [
    {
     "name": "stdout",
     "output_type": "stream",
     "text": [
      "(70, 128)\n"
     ]
    }
   ],
   "source": [
    "print(X_test.shape)"
   ]
  },
  {
   "cell_type": "code",
   "execution_count": 13,
   "metadata": {},
   "outputs": [
    {
     "name": "stdout",
     "output_type": "stream",
     "text": [
      "(204, 128) (204,)\n"
     ]
    }
   ],
   "source": [
    "print(X_train.shape, Y_train.shape)"
   ]
  },
  {
   "cell_type": "code",
   "execution_count": 14,
   "metadata": {},
   "outputs": [
    {
     "name": "stdout",
     "output_type": "stream",
     "text": [
      "Training Started...\n",
      "Training Finished...\n"
     ]
    }
   ],
   "source": [
    "from sklearn import svm\n",
    "\n",
    "\n",
    "print(\"Training Started...\")\n",
    "clf = svm.SVC(kernel=\"linear\", C=100.0, gamma =\"auto\") #initialising the svm #classifier\n",
    "#clf = svm.SVC(gamma=0.001, C = 100)\n",
    "clf.fit(X_train,Y_train) #fitting and training\n",
    "\n",
    "print( \"Training Finished...\")"
   ]
  },
  {
   "cell_type": "code",
   "execution_count": 15,
   "metadata": {},
   "outputs": [],
   "source": [
    "score = clf.score(X_test, Y_test)"
   ]
  },
  {
   "cell_type": "code",
   "execution_count": 16,
   "metadata": {},
   "outputs": [
    {
     "data": {
      "text/plain": [
       "0.8285714285714286"
      ]
     },
     "execution_count": 16,
     "metadata": {},
     "output_type": "execute_result"
    }
   ],
   "source": [
    "score"
   ]
  },
  {
   "cell_type": "code",
   "execution_count": 7,
   "metadata": {},
   "outputs": [
    {
     "name": "stdout",
     "output_type": "stream",
     "text": [
      "Collecting opencv-contrib-python\n",
      "  Using cached https://files.pythonhosted.org/packages/cc/ea/ea342b15c152fb862aeabb02402a0893199a59de821f3347a5fe9bfa2791/opencv_contrib_python-4.1.0.25-cp37-cp37m-win_amd64.whl\n",
      "Requirement already satisfied: numpy>=1.14.5 in c:\\users\\dell\\anaconda3\\lib\\site-packages (from opencv-contrib-python) (1.16.2)\n",
      "Installing collected packages: opencv-contrib-python\n",
      "Note: you may need to restart the kernel to use updated packages.\n"
     ]
    },
    {
     "name": "stderr",
     "output_type": "stream",
     "text": [
      "Could not install packages due to an EnvironmentError: [WinError 5] Access is denied: 'C:\\\\Users\\\\Dell\\\\Anaconda3\\\\Lib\\\\site-packages\\\\cv2\\\\cv2.cp37-win_amd64.pyd'\n",
      "Consider using the `--user` option or check the permissions.\n",
      "\n"
     ]
    }
   ],
   "source": [
    "pip install opencv-contrib-python"
   ]
  },
  {
   "cell_type": "code",
   "execution_count": null,
   "metadata": {},
   "outputs": [],
   "source": []
  }
 ],
 "metadata": {
  "kernelspec": {
   "display_name": "Python 3",
   "language": "python",
   "name": "python3"
  },
  "language_info": {
   "codemirror_mode": {
    "name": "ipython",
    "version": 3
   },
   "file_extension": ".py",
   "mimetype": "text/x-python",
   "name": "python",
   "nbconvert_exporter": "python",
   "pygments_lexer": "ipython3",
   "version": "3.7.3"
  }
 },
 "nbformat": 4,
 "nbformat_minor": 2
}
